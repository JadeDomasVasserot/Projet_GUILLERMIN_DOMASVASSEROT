{
 "cells": [
  {
   "cell_type": "code",
   "execution_count": 2,
   "id": "initial_id",
   "metadata": {
    "ExecuteTime": {
     "end_time": "2025-02-03T11:07:50.826453Z",
     "start_time": "2025-02-03T11:07:50.764806Z"
    },
    "collapsed": true
   },
   "outputs": [],
   "source": [
    "import requests"
   ]
  },
  {
   "cell_type": "code",
   "execution_count": 4,
   "id": "ffe323eb46f0c2a7",
   "metadata": {
    "ExecuteTime": {
     "end_time": "2025-01-24T10:52:29.914863Z",
     "start_time": "2025-01-24T10:52:29.913272Z"
    }
   },
   "outputs": [
    {
     "name": "stdout",
     "output_type": "stream",
     "text": [
      "{'file': <_io.BufferedReader name='./images/draw/image_20250206_174128.png'>}\n",
      "Statut de la réponse: 422\n",
      "Réponse JSON: {'detail': [{'type': 'missing', 'loc': ['body', 'data'], 'msg': 'Field required', 'input': None}]}\n"
     ]
    }
   ],
   "source": [
    "import requests\n",
    "\n",
    "url = \"https://api-cloud-g4-0bc391d2f0c3.herokuapp.com/models/predict\"  # Remplacez par l'URL de votre API si différente\n",
    "image_path = \"./images/draw/image_20250206_174128.png\"  # Remplacez par le chemin de votre image\n",
    "\n",
    "with open(image_path, \"rb\") as image_file:\n",
    "    files = {\"file\": image_file}\n",
    "    print(files)\n",
    "    response = requests.post(url, files=files)\n",
    "\n",
    "print(\"Statut de la réponse:\", response.status_code)\n",
    "print(\"Réponse JSON:\", response.json())\n"
   ]
  },
  {
   "cell_type": "code",
   "execution_count": 10,
   "id": "95bfe7c8",
   "metadata": {},
   "outputs": [
    {
     "name": "stdout",
     "output_type": "stream",
     "text": [
      "Statut de la réponse: 200\n",
      "Réponse JSON: [{'label': 'basket', 'id': 0, 'confidence': 0.0001}, {'label': 'eye', 'id': 1, 'confidence': 0.9969}, {'label': 'binoculars', 'id': 2, 'confidence': 0.0016}, {'label': 'rabbit', 'id': 3, 'confidence': 0.0002}, {'label': 'hand', 'id': 4, 'confidence': 0.0011}]\n"
     ]
    }
   ],
   "source": [
    "import requests\n",
    "\n",
    "image_path = \"./images/draw/image_20250206_174128.png\"  # Remplacez par le chemin de votre image\n",
    "\n",
    "files = {'data': open(image_path, \"rb\")}\n",
    "response = requests.post(url, files=files)\n",
    "\n",
    "print(\"Statut de la réponse:\", response.status_code)\n",
    "print(\"Réponse JSON:\", response.json())\n"
   ]
  },
  {
   "cell_type": "code",
   "execution_count": null,
   "id": "6703c0e9",
   "metadata": {},
   "outputs": [],
   "source": []
  }
 ],
 "metadata": {
  "kernelspec": {
   "display_name": "streamlit_projet_GUILLERMIN_DOMASVASSEROT",
   "language": "python",
   "name": "python3"
  },
  "language_info": {
   "codemirror_mode": {
    "name": "ipython",
    "version": 3
   },
   "file_extension": ".py",
   "mimetype": "text/x-python",
   "name": "python",
   "nbconvert_exporter": "python",
   "pygments_lexer": "ipython3",
   "version": "3.12.7"
  }
 },
 "nbformat": 4,
 "nbformat_minor": 5
}
